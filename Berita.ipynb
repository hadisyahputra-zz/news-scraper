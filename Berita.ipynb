{
 "cells": [
  {
   "cell_type": "markdown",
   "metadata": {},
   "source": [
    "# Install library"
   ]
  },
  {
   "cell_type": "code",
   "execution_count": null,
   "metadata": {},
   "outputs": [],
   "source": [
    "!pip install selenium"
   ]
  },
  {
   "cell_type": "markdown",
   "metadata": {},
   "source": [
    "# Import library"
   ]
  },
  {
   "cell_type": "code",
   "execution_count": 9,
   "metadata": {
    "ExecuteTime": {
     "end_time": "2020-11-23T14:14:44.772260Z",
     "start_time": "2020-11-23T14:14:44.762948Z"
    }
   },
   "outputs": [],
   "source": [
    "import pandas as pd\n",
    "import re\n",
    "import time\n",
    "import requests\n",
    "from selenium.webdriver.common.keys import Keys\n",
    "from selenium.webdriver.common.action_chains import ActionChains\n",
    "from selenium.common.exceptions import NoSuchElementException, TimeoutException\n",
    "from selenium.webdraiver.support import expected_conditions as EC\n",
    "from selenium.webdriver.common.by import By\n",
    "from selenium.webdriver.support.ui import WebDriverWait\n",
    "from datetime import datetime\n",
    "today = datetime.today().strftime(\"%Y-%m-%d\")\n",
    "from selenium import webdriver"
   ]
  },
  {
   "cell_type": "markdown",
   "metadata": {},
   "source": [
    "# Scraper list"
   ]
  },
  {
   "cell_type": "markdown",
   "metadata": {},
   "source": [
    "<b>DONE</b>:\n",
    "1. republica: populer (https://republika.co.id/kanal/news)\n",
    "2. kompas: https://www.kompas.com/, ada tren dan populer (10 terpopuler di halaman depan). Bisa scrape yg tren berdasarkan tanggal (cth: https://www.kompas.com/tren/search/2020-09-09)\n",
    "3. tirto: populer hanya 4 (https://tirto.id/)\n",
    "4. kumparan: tidak ada populer, adanya trending (https://kumparan.com/trending)\n",
    "5. detik: berita terpopuler (https://www.detik.com/terpopuler?tag_from=wp_cb_mostPopular_more)\n",
    "6. tribunnews: populer (https://www.tribunnews.com/populer)\n",
    "7. liputan6: populer (https://www.liputan6.com/indeks/terpopuler)\n",
    "8. merdeka.com: trending (https://www.merdeka.com/trending/)\n",
    "9. kapanlagi.com: trending (https://www.kapanlagi.com/trending/)\n",
    "10. okezone.com: terpopuler (https://www.okezone.com/)\n",
    "11. tempo.co: populer (https://www.tempo.co/populer)\n",
    "12. viva.co.id: populer (https://www.viva.co.id/)\n",
    "13. suara.com: populer (https://suara.com/)\n",
    "14. jpnn.com: populer (https://www.jpnn.com/populer)\n",
    "15. sindonews.com: populer (https://www.sindonews.com/)\n",
    "16. jawapos.com: trending (https://www.jawapos.com/)\n",
    "17. antaranews.com: populer (https://www.antaranews.com/#tab-popular)\n",
    "18. inilah.com: populer (https://inilah.com/)\n",
    "\n",
    "<b>UNDONE</b>:\n",
    "19. mayangkaranews.com: trending (https://mayangkaranews.com/) - berita blitar\n",
    "20. bola.net (ttg bola): trending (https://www.bola.net/trending/). Bisa scrape yg tren berdasarkan tanggal (cth: https://www.bola.net/trending/2020/09/12/)\n",
    "21. uzone.co.id (ttg otomotif dan teknologi)\n",
    "22. metrotvnews.com (headline news, berita dalam bentuk video)"
   ]
  },
  {
   "cell_type": "markdown",
   "metadata": {
    "heading_collapsed": true
   },
   "source": [
    "# Republica"
   ]
  },
  {
   "cell_type": "code",
   "execution_count": 8,
   "metadata": {
    "ExecuteTime": {
     "end_time": "2020-11-22T11:37:19.131180Z",
     "start_time": "2020-11-22T11:37:10.485299Z"
    },
    "hidden": true
   },
   "outputs": [],
   "source": [
    "# insert your chrome driver here\n",
    "driver = webdriver.Chrome(\n",
    "    './chromedriver_linux64/chromedriver')\n",
    "url = 'https://republika.co.id/kanal/news'\n",
    "driver.get(url)\n",
    "time.sleep(3)\n",
    "WebDriverWait(driver, 20).until(\n",
    "    EC.presence_of_all_elements_located((By.XPATH, '//div[@class=\"populer_set_left\"]/ul/*')))\n",
    "arr_li = driver.find_elements_by_xpath('//div[@class=\"populer_set_left\"]/ul/*')\n",
    "df_populer = pd.DataFrame()\n",
    "for li in arr_li:\n",
    "    a = li.find_element_by_tag_name('a')\n",
    "    title = a.text\n",
    "    link = a.get_attribute('href')\n",
    "    df_populer = df_populer.append({\n",
    "        'title': title,\n",
    "        'link': link,\n",
    "        'scraped_at': datetime.now()\n",
    "    }, ignore_index=True)\n",
    "driver.close()\n",
    "\n",
    "df_populer.to_csv(\n",
    "    'scrape result/republica/{}_populer_republica.csv'.format(date), index=False)"
   ]
  },
  {
   "cell_type": "markdown",
   "metadata": {},
   "source": [
    "# Kompas"
   ]
  },
  {
   "cell_type": "markdown",
   "metadata": {},
   "source": [
    "## Populer"
   ]
  },
  {
   "cell_type": "code",
   "execution_count": 4,
   "metadata": {
    "ExecuteTime": {
     "end_time": "2020-11-22T11:22:32.319968Z",
     "start_time": "2020-11-22T11:22:24.865256Z"
    }
   },
   "outputs": [
    {
     "name": "stdout",
     "output_type": "stream",
     "text": [
      "Scraping is finished\n"
     ]
    }
   ],
   "source": [
    "# insert your chrome driver here\n",
    "driver = webdriver.Chrome(\n",
    "    './chromedriver_linux64/chromedriver')\n",
    "url = 'https://www.kompas.com/'\n",
    "driver.get(url)\n",
    "time.sleep(3)\n",
    "WebDriverWait(driver, 20).until(\n",
    "    EC.presence_of_all_elements_located((By.XPATH, '//div[@class=\"most__wrap clearfix\"]/*')))\n",
    "arr_div_populer = driver.find_elements_by_xpath(\n",
    "    '//div[@class=\"most__wrap clearfix\"]/*')\n",
    "df_populer = pd.DataFrame()\n",
    "for d in arr_div_populer:\n",
    "    rank = d.find_element_by_class_name('most__count').text\n",
    "    link = d.find_element_by_tag_name('a').get_attribute('href')\n",
    "    title = d.find_element_by_tag_name('h4').text\n",
    "    read = d.find_element_by_class_name('most__read').text\n",
    "    df_populer = df_populer.append({\n",
    "        'rank': rank,\n",
    "        'link': link,\n",
    "        'title': title,\n",
    "        'read_count': read,\n",
    "        'scraped_at': datetime.now()\n",
    "    }, ignore_index=True)\n",
    "df_populer.to_csv(\n",
    "    'scrape result/kompas/{}_populer_kompas.csv'.format(date), index=False)\n",
    "print('Scraping is finished')\n",
    "driver.close()"
   ]
  },
  {
   "cell_type": "markdown",
   "metadata": {},
   "source": [
    "## Trending"
   ]
  },
  {
   "cell_type": "code",
   "execution_count": 7,
   "metadata": {
    "ExecuteTime": {
     "end_time": "2020-11-22T11:32:49.125772Z",
     "start_time": "2020-11-22T11:32:30.276169Z"
    }
   },
   "outputs": [
    {
     "name": "stdout",
     "output_type": "stream",
     "text": [
      "Scraping is finished\n"
     ]
    }
   ],
   "source": [
    "scraped_date = '2020-10-12'\n",
    "\n",
    "# insert your chrome driver here\n",
    "driver = webdriver.Chrome(\n",
    "    './chromedriver_linux64/chromedriver')\n",
    "df_trending = pd.DataFrame()\n",
    "p = 1\n",
    "while True:\n",
    "    url = 'https://www.kompas.com/tren/search/{}/{}'.format(scraped_date, p)\n",
    "    driver.get(url)\n",
    "    time.sleep(3)\n",
    "    arr_div = driver.find_elements_by_xpath('//div[@class=\"latest--news mt2 clearfix\"]/*')\n",
    "    if len(arr_div) <= 0:\n",
    "        break\n",
    "    else:\n",
    "        for d in arr_div:\n",
    "            a = d.find_element_by_tag_name('h3').find_element_by_tag_name('a')\n",
    "            title = a.text\n",
    "            link = a.get_attribute('href')\n",
    "            timestamp = d.find_element_by_class_name('article__date').text\n",
    "            df_trending = df_trending.append({\n",
    "                'page': p,\n",
    "                'title': title,\n",
    "                'link': link,\n",
    "                'timestamp': timestamp,\n",
    "                'scraped_at': datetime.now()\n",
    "            }, ignore_index=True)\n",
    "        p += 1\n",
    "\n",
    "df_trending.to_csv('scrape result/kompas/{}_trending_kompas.csv'.format(scraped_date), index=False)\n",
    "print('Scraping is finished')\n",
    "driver.close()"
   ]
  },
  {
   "cell_type": "markdown",
   "metadata": {
    "heading_collapsed": true
   },
   "source": [
    "# Tirto"
   ]
  },
  {
   "cell_type": "code",
   "execution_count": 13,
   "metadata": {
    "ExecuteTime": {
     "end_time": "2020-11-22T11:52:07.770856Z",
     "start_time": "2020-11-22T11:52:00.199107Z"
    },
    "hidden": true
   },
   "outputs": [
    {
     "name": "stdout",
     "output_type": "stream",
     "text": [
      "Scraping is finished\n"
     ]
    }
   ],
   "source": [
    "# insert your chrome driver here\n",
    "driver = webdriver.Chrome(\n",
    "    './chromedriver_linux64/chromedriver')\n",
    "url = 'https://tirto.id/'\n",
    "driver.get(url)\n",
    "time.sleep(3)\n",
    "WebDriverWait(driver, 20).until(\n",
    "    EC.presence_of_all_elements_located((By.XPATH, '//div[@class=\"container mt-28 container900\"]/div[13]/*')))\n",
    "df_populer = pd.DataFrame()\n",
    "for i in range(2, 4):\n",
    "    arr_row = driver.find_elements_by_xpath(\n",
    "        '//div[@class=\"container mt-28 container900\"]/div[13]/div[{}]/*'.format(i))\n",
    "    for r in arr_row:\n",
    "        title = r.find_element_by_tag_name('h1').text\n",
    "        link = r.find_element_by_tag_name('a').get_attribute('href')\n",
    "        df_populer = df_populer.append({\n",
    "            'title': title,\n",
    "            'link': link,\n",
    "            'scraped_at': datetime.now()\n",
    "        }, ignore_index=True)\n",
    "        \n",
    "df_populer.to_csv('scrape result/tirto/{}_populer_tirto.csv'.format(date), index=False)\n",
    "print('Scraping is finished')\n",
    "driver.close()"
   ]
  },
  {
   "cell_type": "markdown",
   "metadata": {
    "heading_collapsed": true
   },
   "source": [
    "# Kumparan"
   ]
  },
  {
   "cell_type": "code",
   "execution_count": 17,
   "metadata": {
    "ExecuteTime": {
     "end_time": "2020-11-22T11:58:42.324565Z",
     "start_time": "2020-11-22T11:58:42.313570Z"
    },
    "hidden": true
   },
   "outputs": [],
   "source": [
    "def scroll_down():\n",
    "    \"\"\"A method for scrolling the page.\"\"\"\n",
    "    last_height = driver.execute_script(\n",
    "        \"return document.body.scrollHeight\")\n",
    "\n",
    "    while True:\n",
    "        driver.execute_script(\n",
    "            \"window.scrollTo(0, document.body.scrollHeight);\")\n",
    "        time.sleep(2)\n",
    "\n",
    "        new_height = driver.execute_script(\n",
    "            \"return document.body.scrollHeight\")\n",
    "        if new_height == last_height:\n",
    "            break\n",
    "        last_height = new_height"
   ]
  },
  {
   "cell_type": "code",
   "execution_count": 19,
   "metadata": {
    "ExecuteTime": {
     "end_time": "2020-11-22T12:04:29.059170Z",
     "start_time": "2020-11-22T12:04:01.683481Z"
    },
    "hidden": true
   },
   "outputs": [
    {
     "name": "stdout",
     "output_type": "stream",
     "text": [
      "114\n",
      "https://cdn-graphql-v4.kumparan.com/query?operationName=FindStoryBySlug&variables=%7B%22slug%22%3A%22https://kumparan.com/kumparannews/habib-rizieq-tolak-tes-swab-dari-petugas-yang-datang-ke-rumahnya-1udZrwaCS60%22%7D&extensions=%7B%22persistedQuery%22%3A%7B%22version%22%3A1%2C%22sha256Hash%22%3A%22c05aebe153dfd967395d35aa6f9516d6141475b2223b445d01248b79b5506223%22%7D%7D&cache-ttl=10\n",
      "https://cdn-graphql-v4.kumparan.com/query?operationName=FindStoryBySlug&variables=%7B%22slug%22%3A%22https://kumparan.com/kumparannews/ketua-pa-212-cilacap-meninggal-karena-corona-ada-riwayat-kondangan-1udcjmXzOOk%22%7D&extensions=%7B%22persistedQuery%22%3A%7B%22version%22%3A1%2C%22sha256Hash%22%3A%22c05aebe153dfd967395d35aa6f9516d6141475b2223b445d01248b79b5506223%22%7D%7D&cache-ttl=10\n",
      "https://cdn-graphql-v4.kumparan.com/query?operationName=FindStoryBySlug&variables=%7B%22slug%22%3A%22https://kumparan.com/kumparannews/anak-habib-idrus-yang-doakan-jokowi-umur-pendek-disebut-asn-ini-kata-bappenas-1udaYEkvdNY%22%7D&extensions=%7B%22persistedQuery%22%3A%7B%22version%22%3A1%2C%22sha256Hash%22%3A%22c05aebe153dfd967395d35aa6f9516d6141475b2223b445d01248b79b5506223%22%7D%7D&cache-ttl=10\n",
      "https://cdn-graphql-v4.kumparan.com/query?operationName=FindStoryBySlug&variables=%7B%22slug%22%3A%22https://kumparan.com/kumparannews/pakar-energi-asal-indonesia-masuk-daftar-2-persen-ilmuwan-berpengaruh-di-dunia-1uddlhQ2WuG%22%7D&extensions=%7B%22persistedQuery%22%3A%7B%22version%22%3A1%2C%22sha256Hash%22%3A%22c05aebe153dfd967395d35aa6f9516d6141475b2223b445d01248b79b5506223%22%7D%7D&cache-ttl=10\n",
      "https://cdn-graphql-v4.kumparan.com/query?operationName=FindStoryBySlug&variables=%7B%22slug%22%3A%22https://kumparan.com/kumparannews/aksi-pencopotan-baliho-habib-rizieq-di-beberapa-kota-1udLK9odCDO%22%7D&extensions=%7B%22persistedQuery%22%3A%7B%22version%22%3A1%2C%22sha256Hash%22%3A%22c05aebe153dfd967395d35aa6f9516d6141475b2223b445d01248b79b5506223%22%7D%7D&cache-ttl=10\n",
      "https://cdn-graphql-v4.kumparan.com/query?operationName=FindStoryBySlug&variables=%7B%22slug%22%3A%22https://kumparan.com/kumparannews/respons-jubir-jk-soal-tulisan-chaplin-yang-sebut-danai-kepulangan-habib-rizieq-1udYyCUCGKp%22%7D&extensions=%7B%22persistedQuery%22%3A%7B%22version%22%3A1%2C%22sha256Hash%22%3A%22c05aebe153dfd967395d35aa6f9516d6141475b2223b445d01248b79b5506223%22%7D%7D&cache-ttl=10\n",
      "https://cdn-graphql-v4.kumparan.com/query?operationName=FindStoryBySlug&variables=%7B%22slug%22%3A%22https://kumparan.com/berita_viral/alasan-haru-pria-lulusan-s-2-tinggalkan-pekerjaan-dan-pilih-jualan-balon-1udYS9yNNVQ%22%7D&extensions=%7B%22persistedQuery%22%3A%7B%22version%22%3A1%2C%22sha256Hash%22%3A%22c05aebe153dfd967395d35aa6f9516d6141475b2223b445d01248b79b5506223%22%7D%7D&cache-ttl=10\n",
      "https://cdn-graphql-v4.kumparan.com/query?operationName=FindStoryBySlug&variables=%7B%22slug%22%3A%22https://kumparan.com/berita_viral/terungkap-misteri-uang-rp23-juta-tercecer-di-selokan-yang-jadi-rebutan-warga-1udYxvlo9wi%22%7D&extensions=%7B%22persistedQuery%22%3A%7B%22version%22%3A1%2C%22sha256Hash%22%3A%22c05aebe153dfd967395d35aa6f9516d6141475b2223b445d01248b79b5506223%22%7D%7D&cache-ttl=10\n",
      "https://cdn-graphql-v4.kumparan.com/query?operationName=FindStoryBySlug&variables=%7B%22slug%22%3A%22https://kumparan.com/kumparannews/pegawai-metrotv-tewas-usai-tabrak-truk-sampah-yang-parkir-di-cakung-1udaJ9HKpHh%22%7D&extensions=%7B%22persistedQuery%22%3A%7B%22version%22%3A1%2C%22sha256Hash%22%3A%22c05aebe153dfd967395d35aa6f9516d6141475b2223b445d01248b79b5506223%22%7D%7D&cache-ttl=10\n",
      "https://cdn-graphql-v4.kumparan.com/query?operationName=FindStoryBySlug&variables=%7B%22slug%22%3A%22https://kumparan.com/berita_viral/kaya-raya-4-pengacara-kondang-yang-bergaya-hidup-mewah-1udaPJyPHQX%22%7D&extensions=%7B%22persistedQuery%22%3A%7B%22version%22%3A1%2C%22sha256Hash%22%3A%22c05aebe153dfd967395d35aa6f9516d6141475b2223b445d01248b79b5506223%22%7D%7D&cache-ttl=10\n",
      "https://cdn-graphql-v4.kumparan.com/query?operationName=FindStoryBySlug&variables=%7B%22slug%22%3A%22https://kumparan.com/kumparannews/fpi-bantah-habib-rizieq-tolak-tes-swab-mereka-hanya-menyarankan-tak-mewajibkan-1uddsoZW3Ov%22%7D&extensions=%7B%22persistedQuery%22%3A%7B%22version%22%3A1%2C%22sha256Hash%22%3A%22c05aebe153dfd967395d35aa6f9516d6141475b2223b445d01248b79b5506223%22%7D%7D&cache-ttl=10\n",
      "https://cdn-graphql-v4.kumparan.com/query?operationName=FindStoryBySlug&variables=%7B%22slug%22%3A%22https://kumparan.com/berita-selebritis/andhika-pratama-bandingkan-fotonya-saat-bayi-dengan-baby-saka-mirip-banget-1uclFkfcM3Y%22%7D&extensions=%7B%22persistedQuery%22%3A%7B%22version%22%3A1%2C%22sha256Hash%22%3A%22c05aebe153dfd967395d35aa6f9516d6141475b2223b445d01248b79b5506223%22%7D%7D&cache-ttl=10\n",
      "https://cdn-graphql-v4.kumparan.com/query?operationName=FindStoryBySlug&variables=%7B%22slug%22%3A%22https://kumparan.com/viral/adu-balap-sepeda-berakhir-cek-cok-leher-salah-satu-bocah-nyaris-terlindas-ban-1udeKkH5Kx2%22%7D&extensions=%7B%22persistedQuery%22%3A%7B%22version%22%3A1%2C%22sha256Hash%22%3A%22c05aebe153dfd967395d35aa6f9516d6141475b2223b445d01248b79b5506223%22%7D%7D&cache-ttl=10\n",
      "https://cdn-graphql-v4.kumparan.com/query?operationName=FindStoryBySlug&variables=%7B%22slug%22%3A%22https://kumparan.com/kumparannews/sederet-harta-cawagub-kalsel-muhidin-yang-disebut-kpk-calon-terkaya-di-pilkada-1udZhwhsr7K%22%7D&extensions=%7B%22persistedQuery%22%3A%7B%22version%22%3A1%2C%22sha256Hash%22%3A%22c05aebe153dfd967395d35aa6f9516d6141475b2223b445d01248b79b5506223%22%7D%7D&cache-ttl=10\n",
      "https://cdn-graphql-v4.kumparan.com/query?operationName=FindStoryBySlug&variables=%7B%22slug%22%3A%22https://kumparan.com/kumparannews/corona-jakarta-catatkan-angka-tertinggi-anies-akan-tarik-rem-darurat-lagi-1udYywlW3n7%22%7D&extensions=%7B%22persistedQuery%22%3A%7B%22version%22%3A1%2C%22sha256Hash%22%3A%22c05aebe153dfd967395d35aa6f9516d6141475b2223b445d01248b79b5506223%22%7D%7D&cache-ttl=10\n",
      "https://cdn-graphql-v4.kumparan.com/query?operationName=FindStoryBySlug&variables=%7B%22slug%22%3A%22https://kumparan.com/kumparannews/jubir-tanggapi-tulisan-chaplin-sebut-jk-bertemu-habib-rizieq-di-arab-saudi-1udZMG55EmJ%22%7D&extensions=%7B%22persistedQuery%22%3A%7B%22version%22%3A1%2C%22sha256Hash%22%3A%22c05aebe153dfd967395d35aa6f9516d6141475b2223b445d01248b79b5506223%22%7D%7D&cache-ttl=10\n",
      "https://cdn-graphql-v4.kumparan.com/query?operationName=FindStoryBySlug&variables=%7B%22slug%22%3A%22https://kumparan.com/beritaanaksurabaya/mulai-senin-23-november-2020-guru-sd-dan-smp-se-surabaya-kembali-kerja-di-kantor-1udXQrRbyVO%22%7D&extensions=%7B%22persistedQuery%22%3A%7B%22version%22%3A1%2C%22sha256Hash%22%3A%22c05aebe153dfd967395d35aa6f9516d6141475b2223b445d01248b79b5506223%22%7D%7D&cache-ttl=10\n",
      "https://cdn-graphql-v4.kumparan.com/query?operationName=FindStoryBySlug&variables=%7B%22slug%22%3A%22https://kumparan.com/kumparannews/update-corona-ri-22-november-497-668-positif-418-188-sembuh-meninggal-15-884-1uddGadlX43%22%7D&extensions=%7B%22persistedQuery%22%3A%7B%22version%22%3A1%2C%22sha256Hash%22%3A%22c05aebe153dfd967395d35aa6f9516d6141475b2223b445d01248b79b5506223%22%7D%7D&cache-ttl=10\n",
      "https://cdn-graphql-v4.kumparan.com/query?operationName=FindStoryBySlug&variables=%7B%22slug%22%3A%22https://kumparan.com/berita-artis/kalina-oktarani-emosi-ke-vicky-gara-gara-kiki-amalia-gue-merasa-dibohongi-1udZ17yHHMS%22%7D&extensions=%7B%22persistedQuery%22%3A%7B%22version%22%3A1%2C%22sha256Hash%22%3A%22c05aebe153dfd967395d35aa6f9516d6141475b2223b445d01248b79b5506223%22%7D%7D&cache-ttl=10\n",
      "https://cdn-graphql-v4.kumparan.com/query?operationName=FindStoryBySlug&variables=%7B%22slug%22%3A%22https://kumparan.com/kumparannews/fpi-soal-petugas-tracing-dihalangi-di-petamburan-tidak-benar-1udYc1u8A9F%22%7D&extensions=%7B%22persistedQuery%22%3A%7B%22version%22%3A1%2C%22sha256Hash%22%3A%22c05aebe153dfd967395d35aa6f9516d6141475b2223b445d01248b79b5506223%22%7D%7D&cache-ttl=10\n",
      "https://cdn-graphql-v4.kumparan.com/query?operationName=FindStoryBySlug&variables=%7B%22slug%22%3A%22https://kumparan.com/berita_viral/perubahan-tatanan-rambut-gadis-16-tahun-setelah-alami-depresi-bertahun-tahun-1udYODkXmav%22%7D&extensions=%7B%22persistedQuery%22%3A%7B%22version%22%3A1%2C%22sha256Hash%22%3A%22c05aebe153dfd967395d35aa6f9516d6141475b2223b445d01248b79b5506223%22%7D%7D&cache-ttl=10\n"
     ]
    },
    {
     "name": "stdout",
     "output_type": "stream",
     "text": [
      "https://cdn-graphql-v4.kumparan.com/query?operationName=FindStoryBySlug&variables=%7B%22slug%22%3A%22https://kumparan.com/kumparannews/foto-sisa-mayat-letusan-gunung-vesuvius-ditemukan-di-pompeii-italia-1udQwaFFW11%22%7D&extensions=%7B%22persistedQuery%22%3A%7B%22version%22%3A1%2C%22sha256Hash%22%3A%22c05aebe153dfd967395d35aa6f9516d6141475b2223b445d01248b79b5506223%22%7D%7D&cache-ttl=10\n",
      "https://cdn-graphql-v4.kumparan.com/query?operationName=FindStoryBySlug&variables=%7B%22slug%22%3A%22https://kumparan.com/paluposo/di-palu-baliho-bergambar-habib-rizieq-juga-diturunkan-1udcGVfUZHb%22%7D&extensions=%7B%22persistedQuery%22%3A%7B%22version%22%3A1%2C%22sha256Hash%22%3A%22c05aebe153dfd967395d35aa6f9516d6141475b2223b445d01248b79b5506223%22%7D%7D&cache-ttl=10\n",
      "https://cdn-graphql-v4.kumparan.com/query?operationName=FindStoryBySlug&variables=%7B%22slug%22%3A%22https://kumparan.com/kumparanhits/dita-soedarjo-ditanya-kapan-menikah-oleh-netizen-cuma-tuhan-yesus-yang-tahu-1udKP6Epjup%22%7D&extensions=%7B%22persistedQuery%22%3A%7B%22version%22%3A1%2C%22sha256Hash%22%3A%22c05aebe153dfd967395d35aa6f9516d6141475b2223b445d01248b79b5506223%22%7D%7D&cache-ttl=10\n",
      "https://cdn-graphql-v4.kumparan.com/query?operationName=FindStoryBySlug&variables=%7B%22slug%22%3A%22https://kumparan.com/kumparannews/mensos-minta-penerima-bansos-yang-terlalu-lama-dibersihkan-diganti-yang-baru-1udeYpgwE47%22%7D&extensions=%7B%22persistedQuery%22%3A%7B%22version%22%3A1%2C%22sha256Hash%22%3A%22c05aebe153dfd967395d35aa6f9516d6141475b2223b445d01248b79b5506223%22%7D%7D&cache-ttl=10\n",
      "https://cdn-graphql-v4.kumparan.com/query?operationName=FindStoryBySlug&variables=%7B%22slug%22%3A%22https://kumparan.com/kumparanvideo/buya-syafii-mendewakan-yang-mengaku-keturunan-nabi-adalah-perbudakan-spiritual-1udcyNzHYr9%22%7D&extensions=%7B%22persistedQuery%22%3A%7B%22version%22%3A1%2C%22sha256Hash%22%3A%22c05aebe153dfd967395d35aa6f9516d6141475b2223b445d01248b79b5506223%22%7D%7D&cache-ttl=10\n",
      "https://cdn-graphql-v4.kumparan.com/query?operationName=FindStoryBySlug&variables=%7B%22slug%22%3A%22https://kumparan.com/lampunggeh/berburu-tanaman-hias-aglonema-di-lampung-timur-harganya-capai-jutaan-rupiah-1udG7lH8oXf%22%7D&extensions=%7B%22persistedQuery%22%3A%7B%22version%22%3A1%2C%22sha256Hash%22%3A%22c05aebe153dfd967395d35aa6f9516d6141475b2223b445d01248b79b5506223%22%7D%7D&cache-ttl=10\n",
      "https://cdn-graphql-v4.kumparan.com/query?operationName=FindStoryBySlug&variables=%7B%22slug%22%3A%22https://kumparan.com/kumparanhits/amanda-manopo-dipandang-negatif-oleh-netizen-billy-syahputra-beri-pembelaan-1udbPQjzheJ%22%7D&extensions=%7B%22persistedQuery%22%3A%7B%22version%22%3A1%2C%22sha256Hash%22%3A%22c05aebe153dfd967395d35aa6f9516d6141475b2223b445d01248b79b5506223%22%7D%7D&cache-ttl=10\n",
      "https://cdn-graphql-v4.kumparan.com/query?operationName=FindStoryBySlug&variables=%7B%22slug%22%3A%22https://kumparan.com/kumparannews/kisah-mbah-jono-hidup-sebatangkara-di-pemakaman-salatiga-1udaJ0tmxko%22%7D&extensions=%7B%22persistedQuery%22%3A%7B%22version%22%3A1%2C%22sha256Hash%22%3A%22c05aebe153dfd967395d35aa6f9516d6141475b2223b445d01248b79b5506223%22%7D%7D&cache-ttl=10\n",
      "https://cdn-graphql-v4.kumparan.com/query?operationName=FindStoryBySlug&variables=%7B%22slug%22%3A%22https://kumparan.com/kumparannews/parkir-di-pinggir-jalan-dua-ban-mobil-warga-di-depok-hilang-dicuri-1udePqOLtEU%22%7D&extensions=%7B%22persistedQuery%22%3A%7B%22version%22%3A1%2C%22sha256Hash%22%3A%22c05aebe153dfd967395d35aa6f9516d6141475b2223b445d01248b79b5506223%22%7D%7D&cache-ttl=10\n",
      "https://cdn-graphql-v4.kumparan.com/query?operationName=FindStoryBySlug&variables=%7B%22slug%22%3A%22https://kumparan.com/kumparanbisnis/catat-pemerintah-perpanjang-pemberian-bansos-tunai-hingga-2021-1udfLJPsSEa%22%7D&extensions=%7B%22persistedQuery%22%3A%7B%22version%22%3A1%2C%22sha256Hash%22%3A%22c05aebe153dfd967395d35aa6f9516d6141475b2223b445d01248b79b5506223%22%7D%7D&cache-ttl=10\n",
      "https://cdn-graphql-v4.kumparan.com/query?operationName=FindStoryBySlug&variables=%7B%22slug%22%3A%22https://kumparan.com/kumparannews/sopir-mengantuk-toyota-fortuner-nyemplung-ke-kali-di-jakbar-1uddOav6kdK%22%7D&extensions=%7B%22persistedQuery%22%3A%7B%22version%22%3A1%2C%22sha256Hash%22%3A%22c05aebe153dfd967395d35aa6f9516d6141475b2223b445d01248b79b5506223%22%7D%7D&cache-ttl=10\n",
      "https://cdn-graphql-v4.kumparan.com/query?operationName=FindStoryBySlug&variables=%7B%22slug%22%3A%22https://kumparan.com/kumparanbisnis/erick-thohir-pamer-dirut-anak-usaha-bumn-usia-31-tahun-1udefZIkp8q%22%7D&extensions=%7B%22persistedQuery%22%3A%7B%22version%22%3A1%2C%22sha256Hash%22%3A%22c05aebe153dfd967395d35aa6f9516d6141475b2223b445d01248b79b5506223%22%7D%7D&cache-ttl=10\n",
      "https://cdn-graphql-v4.kumparan.com/query?operationName=FindStoryBySlug&variables=%7B%22slug%22%3A%22https://kumparan.com/kumparanhits/selamat-tata-janeeta-hamil-anak-pertama-dari-raden-brotoseno-1udKlqKwLpR%22%7D&extensions=%7B%22persistedQuery%22%3A%7B%22version%22%3A1%2C%22sha256Hash%22%3A%22c05aebe153dfd967395d35aa6f9516d6141475b2223b445d01248b79b5506223%22%7D%7D&cache-ttl=10\n",
      "https://cdn-graphql-v4.kumparan.com/query?operationName=FindStoryBySlug&variables=%7B%22slug%22%3A%22https://kumparan.com/kumparannews/waspada-hujan-lebat-dan-petir-landa-jakarta-hingga-pukul-16-00-wib-1udbfDHRy5y%22%7D&extensions=%7B%22persistedQuery%22%3A%7B%22version%22%3A1%2C%22sha256Hash%22%3A%22c05aebe153dfd967395d35aa6f9516d6141475b2223b445d01248b79b5506223%22%7D%7D&cache-ttl=10\n",
      "https://cdn-graphql-v4.kumparan.com/query?operationName=FindStoryBySlug&variables=%7B%22slug%22%3A%22https://kumparan.com/kumparanhits/alasan-olivia-allan-pilih-denny-sumargo-jadi-pendamping-hidup-1udcWwvBXIx%22%7D&extensions=%7B%22persistedQuery%22%3A%7B%22version%22%3A1%2C%22sha256Hash%22%3A%22c05aebe153dfd967395d35aa6f9516d6141475b2223b445d01248b79b5506223%22%7D%7D&cache-ttl=10\n",
      "https://cdn-graphql-v4.kumparan.com/query?operationName=FindStoryBySlug&variables=%7B%22slug%22%3A%22https://kumparan.com/kumparanwoman/4-fakta-menarik-mantan-miss-indonesia-yang-jadi-anggota-militer-as-1udYIQC8Qw1%22%7D&extensions=%7B%22persistedQuery%22%3A%7B%22version%22%3A1%2C%22sha256Hash%22%3A%22c05aebe153dfd967395d35aa6f9516d6141475b2223b445d01248b79b5506223%22%7D%7D&cache-ttl=10\n",
      "https://cdn-graphql-v4.kumparan.com/query?operationName=FindStoryBySlug&variables=%7B%22slug%22%3A%22https://kumparan.com/kumparanhits/nikita-mirzani-unggah-foto-naik-motor-gede-keliling-nyopotin-baliho-1udg2x3f8KT%22%7D&extensions=%7B%22persistedQuery%22%3A%7B%22version%22%3A1%2C%22sha256Hash%22%3A%22c05aebe153dfd967395d35aa6f9516d6141475b2223b445d01248b79b5506223%22%7D%7D&cache-ttl=10\n",
      "https://cdn-graphql-v4.kumparan.com/query?operationName=FindStoryBySlug&variables=%7B%22slug%22%3A%22https://kumparan.com/kumparannews/kadiv-propram-awasi-ketat-anggota-polri-yang-tak-netral-di-pilkada-1udckZELmy4%22%7D&extensions=%7B%22persistedQuery%22%3A%7B%22version%22%3A1%2C%22sha256Hash%22%3A%22c05aebe153dfd967395d35aa6f9516d6141475b2223b445d01248b79b5506223%22%7D%7D&cache-ttl=10\n",
      "https://cdn-graphql-v4.kumparan.com/query?operationName=FindStoryBySlug&variables=%7B%22slug%22%3A%22https://kumparan.com/kumparannews/survei-smrc-di-pilwalkot-surabaya-eri-unggul-48-5-machfud-arifin-dapat-37-3-1udczbWq0uG%22%7D&extensions=%7B%22persistedQuery%22%3A%7B%22version%22%3A1%2C%22sha256Hash%22%3A%22c05aebe153dfd967395d35aa6f9516d6141475b2223b445d01248b79b5506223%22%7D%7D&cache-ttl=10\n",
      "Scraping is finished\n"
     ]
    }
   ],
   "source": [
    "# insert your chrome driver here\n",
    "driver = webdriver.Chrome(\n",
    "    './chromedriver_linux64/chromedriver')\n",
    "url = 'https://kumparan.com/trending'\n",
    "driver.get(url)\n",
    "time.sleep(3)\n",
    "scroll_down()\n",
    "arr_div_trending = driver.find_elements_by_xpath(\n",
    "    '//div[@class=\"Viewweb__StyledView-p5eu6e-0 hWzdds\"]/*')\n",
    "print(len(arr_div_trending))\n",
    "df_trending = pd.DataFrame()\n",
    "for d in arr_div_trending:\n",
    "    try:\n",
    "        link = d.find_element_by_tag_name('a').get_attribute('href')\n",
    "        slug = re.sub(r'\\/berita-viral\\/', '', link)\n",
    "        api = 'https://cdn-graphql-v4.kumparan.com/query?operationName=FindStoryBySlug&variables=%7B%22slug%22%3A%22{}%22%7D&extensions=%7B%22persistedQuery%22%3A%7B%22version%22%3A1%2C%22sha256Hash%22%3A%22c05aebe153dfd967395d35aa6f9516d6141475b2223b445d01248b79b5506223%22%7D%7D&cache-ttl=10'.format(\n",
    "            slug)\n",
    "        print(api)\n",
    "        response = requests.get(api)\n",
    "        data = json.loads(response.content)\n",
    "        df_temp = pd.DataFrame.from_dict(\n",
    "            data['data']).T.reset_index().drop(columns=['index'])\n",
    "        df_trending = df_trending.append(df_temp, ignore_index=True)\n",
    "    except:\n",
    "        pass\n",
    "df_trending.to_csv(\n",
    "    'scrape result/kumparan/{}_trending_kumparan.csv'.format(date), index=False)\n",
    "print('Scraping is finished')\n",
    "driver.close()"
   ]
  },
  {
   "cell_type": "markdown",
   "metadata": {
    "heading_collapsed": true
   },
   "source": [
    "# Detik"
   ]
  },
  {
   "cell_type": "code",
   "execution_count": 22,
   "metadata": {
    "ExecuteTime": {
     "end_time": "2020-11-22T12:23:19.864715Z",
     "start_time": "2020-11-22T12:22:06.292716Z"
    },
    "hidden": true
   },
   "outputs": [
    {
     "name": "stdout",
     "output_type": "stream",
     "text": [
      "Scraping is finished\n"
     ]
    }
   ],
   "source": [
    "# insert your chrome driver here\n",
    "driver = webdriver.Chrome(\n",
    "    './chromedriver_linux64/chromedriver')\n",
    "tags = ['detikcom', 'news', 'finance', 'hot', 'inet', 'sport', 'oto',\n",
    "        'travel', 'sepakbola', 'food', 'health', 'wolipop']\n",
    "df_populer = pd.DataFrame()\n",
    "for t in tags:\n",
    "    if t == 'detikcom':\n",
    "        url = 'https://www.detik.com/terpopuler/'\n",
    "    else:\n",
    "        url = 'https://www.detik.com/terpopuler/{}'.format(t)\n",
    "    driver.get(url)\n",
    "    time.sleep(3)\n",
    "    \n",
    "    WebDriverWait(driver, 20).until(\n",
    "        EC.presence_of_all_elements_located((By.XPATH, '//div[@class=\"grid-row list-content\"]/*')))\n",
    "    arr_div_populer = driver.find_elements_by_xpath(\n",
    "        '//div[@class=\"grid-row list-content\"]/*')\n",
    "    last_update = driver.find_element_by_xpath(\n",
    "        '//div[@class=\"page__indeks-info font-base-semibold\"]').text\n",
    "    for d in arr_div_populer:\n",
    "        link = d.find_element_by_tag_name('a').get_attribute('href')\n",
    "        title = d.find_element_by_tag_name('h3').text\n",
    "        div_other_info = d.find_element_by_class_name('media__date')\n",
    "        category = div_other_info.text\n",
    "        timestamp = div_other_info.find_element_by_tag_name(\n",
    "            'span').get_attribute('d-time')\n",
    "        df_populer = df_populer.append({\n",
    "            'link': link,\n",
    "            'title': title,\n",
    "            'category': re.sub(r'\\|.*', '', category).strip(),\n",
    "            'timestamp': timestamp,\n",
    "            'last_update': last_update,\n",
    "            'scraped_at': datetime.now()\n",
    "        }, ignore_index=True)\n",
    "df_populer = df_populer.drop_duplicates(subset='link')\n",
    "df_populer.to_csv(\n",
    "    'scrape result/detik/{}_populer_detik.csv'.format(date), index=False)\n",
    "print('Scraping is finished')\n",
    "driver.close()"
   ]
  },
  {
   "cell_type": "markdown",
   "metadata": {
    "heading_collapsed": true
   },
   "source": [
    "# Tribunnews"
   ]
  },
  {
   "cell_type": "code",
   "execution_count": 24,
   "metadata": {
    "ExecuteTime": {
     "end_time": "2020-11-22T12:37:47.657110Z",
     "start_time": "2020-11-22T12:37:19.690922Z"
    },
    "hidden": true
   },
   "outputs": [
    {
     "name": "stdout",
     "output_type": "stream",
     "text": [
      "Scraping is finished\n"
     ]
    }
   ],
   "source": [
    "# insert your chrome driver here\n",
    "driver = webdriver.Chrome(\n",
    "    './chromedriver_linux64/chromedriver')\n",
    "arr_types = ['6h', '12h', '1d', '3d', '1w']\n",
    "df_populer = pd.DataFrame()\n",
    "for t in arr_types:\n",
    "    url = 'https://www.tribunnews.com/populer?section=&type={}'.format(t)\n",
    "    driver.get(url)\n",
    "    time.sleep(3)\n",
    "    WebDriverWait(driver, 20).until(\n",
    "        EC.presence_of_all_elements_located((By.XPATH, '//div[@class=\"lsi pt10 pb10\"]/ul/*')))\n",
    "    arr_li_populer = driver.find_elements_by_xpath(\n",
    "        '//div[@class=\"lsi pt10 pb10\"]/ul/*')\n",
    "\n",
    "    count = 1\n",
    "    for li in arr_li_populer:\n",
    "        rank = driver.find_element_by_xpath(\n",
    "            '//div[@class=\"lsi pt10 pb10\"]/ul/li[{}]/div/div[1]'.format(count)).text\n",
    "        link = li.find_element_by_tag_name('a').get_attribute('href')\n",
    "        title = li.find_element_by_tag_name('h3').text\n",
    "        timestamp = li.find_element_by_tag_name('time').text\n",
    "        df_populer = df_populer.append({\n",
    "            'type': t,\n",
    "            'rank': rank,\n",
    "            'link': link,\n",
    "            'title': title,\n",
    "            'timestamp': timestamp,\n",
    "            'scraped_at': datetime.now()\n",
    "        }, ignore_index=True)\n",
    "        count += 1\n",
    "df_populer.to_csv(\n",
    "    'scrape result/tribunnews/{}_populer_tribunnews.csv'.format(date), index=False)\n",
    "print('Scraping is finished')\n",
    "driver.close()"
   ]
  },
  {
   "cell_type": "markdown",
   "metadata": {
    "heading_collapsed": true
   },
   "source": [
    "# Liputan6"
   ]
  },
  {
   "cell_type": "code",
   "execution_count": 28,
   "metadata": {
    "ExecuteTime": {
     "end_time": "2020-11-22T13:14:51.348534Z",
     "start_time": "2020-11-22T13:03:39.705673Z"
    },
    "hidden": true
   },
   "outputs": [
    {
     "name": "stdout",
     "output_type": "stream",
     "text": [
      "BERITA TERPOPULER, FOTO DAN VIDEO - LIPUTAN6.COM - HARI INI - HALAMAN 1\n",
      "BERITA TERPOPULER, FOTO DAN VIDEO - LIPUTAN6.COM - HARI INI - HALAMAN 2\n",
      "BERITA TERPOPULER, FOTO DAN VIDEO - LIPUTAN6.COM - HARI INI - HALAMAN 3\n",
      "BERITA TERPOPULER, FOTO DAN VIDEO - LIPUTAN6.COM - HARI INI - HALAMAN 4\n",
      "BERITA TERPOPULER, FOTO DAN VIDEO - LIPUTAN6.COM - HARI INI - HALAMAN 5\n",
      "BERITA TERPOPULER, FOTO DAN VIDEO - LIPUTAN6.COM - HARI INI - HALAMAN 6\n",
      "BERITA TERPOPULER, FOTO DAN VIDEO - LIPUTAN6.COM - HARI INI - HALAMAN 7\n",
      "BERITA TERPOPULER, FOTO DAN VIDEO - LIPUTAN6.COM - HARI INI - HALAMAN 8\n",
      "BERITA TERPOPULER, FOTO DAN VIDEO - LIPUTAN6.COM - HARI INI - HALAMAN 9\n",
      "BERITA TERPOPULER, FOTO DAN VIDEO - LIPUTAN6.COM - HARI INI - HALAMAN 10\n",
      "BERITA TERPOPULER, FOTO DAN VIDEO - LIPUTAN6.COM - HARI INI - HALAMAN 11\n",
      "BERITA TERPOPULER, FOTO DAN VIDEO - LIPUTAN6.COM - HARI INI - HALAMAN 12\n",
      "BERITA TERPOPULER, FOTO DAN VIDEO - LIPUTAN6.COM - HARI INI - HALAMAN 13\n",
      "BERITA TERPOPULER, FOTO DAN VIDEO - LIPUTAN6.COM - HARI INI - HALAMAN 14\n",
      "BERITA TERPOPULER, FOTO DAN VIDEO - LIPUTAN6.COM - HARI INI - HALAMAN 15\n",
      "BERITA TERPOPULER, FOTO DAN VIDEO - LIPUTAN6.COM - HARI INI - HALAMAN 15\n",
      "BERITA TERPOPULER, FOTO DAN VIDEO - LIPUTAN6.COM - MINGGU INI - HALAMAN 1\n",
      "BERITA TERPOPULER, FOTO DAN VIDEO - LIPUTAN6.COM - MINGGU INI - HALAMAN 2\n",
      "BERITA TERPOPULER, FOTO DAN VIDEO - LIPUTAN6.COM - MINGGU INI - HALAMAN 3\n",
      "BERITA TERPOPULER, FOTO DAN VIDEO - LIPUTAN6.COM - MINGGU INI - HALAMAN 4\n",
      "BERITA TERPOPULER, FOTO DAN VIDEO - LIPUTAN6.COM - MINGGU INI - HALAMAN 5\n",
      "BERITA TERPOPULER, FOTO DAN VIDEO - LIPUTAN6.COM - MINGGU INI - HALAMAN 6\n",
      "BERITA TERPOPULER, FOTO DAN VIDEO - LIPUTAN6.COM - MINGGU INI - HALAMAN 7\n",
      "BERITA TERPOPULER, FOTO DAN VIDEO - LIPUTAN6.COM - MINGGU INI - HALAMAN 8\n",
      "BERITA TERPOPULER, FOTO DAN VIDEO - LIPUTAN6.COM - MINGGU INI - HALAMAN 9\n",
      "BERITA TERPOPULER, FOTO DAN VIDEO - LIPUTAN6.COM - MINGGU INI - HALAMAN 10\n",
      "BERITA TERPOPULER, FOTO DAN VIDEO - LIPUTAN6.COM - MINGGU INI - HALAMAN 11\n",
      "BERITA TERPOPULER, FOTO DAN VIDEO - LIPUTAN6.COM - MINGGU INI - HALAMAN 12\n",
      "BERITA TERPOPULER, FOTO DAN VIDEO - LIPUTAN6.COM - MINGGU INI - HALAMAN 13\n",
      "BERITA TERPOPULER, FOTO DAN VIDEO - LIPUTAN6.COM - MINGGU INI - HALAMAN 14\n",
      "BERITA TERPOPULER, FOTO DAN VIDEO - LIPUTAN6.COM - MINGGU INI - HALAMAN 15\n",
      "BERITA TERPOPULER, FOTO DAN VIDEO - LIPUTAN6.COM - MINGGU INI - HALAMAN 15\n",
      "BERITA TERPOPULER, FOTO DAN VIDEO - LIPUTAN6.COM - BULAN INI - HALAMAN 1\n",
      "BERITA TERPOPULER, FOTO DAN VIDEO - LIPUTAN6.COM - BULAN INI - HALAMAN 2\n",
      "BERITA TERPOPULER, FOTO DAN VIDEO - LIPUTAN6.COM - BULAN INI - HALAMAN 3\n",
      "BERITA TERPOPULER, FOTO DAN VIDEO - LIPUTAN6.COM - BULAN INI - HALAMAN 4\n",
      "BERITA TERPOPULER, FOTO DAN VIDEO - LIPUTAN6.COM - BULAN INI - HALAMAN 5\n",
      "BERITA TERPOPULER, FOTO DAN VIDEO - LIPUTAN6.COM - BULAN INI - HALAMAN 6\n",
      "BERITA TERPOPULER, FOTO DAN VIDEO - LIPUTAN6.COM - BULAN INI - HALAMAN 7\n",
      "BERITA TERPOPULER, FOTO DAN VIDEO - LIPUTAN6.COM - BULAN INI - HALAMAN 8\n",
      "BERITA TERPOPULER, FOTO DAN VIDEO - LIPUTAN6.COM - BULAN INI - HALAMAN 9\n",
      "BERITA TERPOPULER, FOTO DAN VIDEO - LIPUTAN6.COM - BULAN INI - HALAMAN 10\n",
      "BERITA TERPOPULER, FOTO DAN VIDEO - LIPUTAN6.COM - BULAN INI - HALAMAN 11\n",
      "BERITA TERPOPULER, FOTO DAN VIDEO - LIPUTAN6.COM - BULAN INI - HALAMAN 12\n",
      "BERITA TERPOPULER, FOTO DAN VIDEO - LIPUTAN6.COM - BULAN INI - HALAMAN 13\n",
      "BERITA TERPOPULER, FOTO DAN VIDEO - LIPUTAN6.COM - BULAN INI - HALAMAN 14\n",
      "BERITA TERPOPULER, FOTO DAN VIDEO - LIPUTAN6.COM - BULAN INI - HALAMAN 15\n",
      "BERITA TERPOPULER, FOTO DAN VIDEO - LIPUTAN6.COM - BULAN INI - HALAMAN 15\n",
      "BERITA TERPOPULER, FOTO DAN VIDEO - LIPUTAN6.COM - TAHUN INI - HALAMAN 1\n",
      "BERITA TERPOPULER, FOTO DAN VIDEO - LIPUTAN6.COM - TAHUN INI - HALAMAN 2\n",
      "BERITA TERPOPULER, FOTO DAN VIDEO - LIPUTAN6.COM - TAHUN INI - HALAMAN 3\n",
      "BERITA TERPOPULER, FOTO DAN VIDEO - LIPUTAN6.COM - TAHUN INI - HALAMAN 4\n",
      "BERITA TERPOPULER, FOTO DAN VIDEO - LIPUTAN6.COM - TAHUN INI - HALAMAN 5\n",
      "BERITA TERPOPULER, FOTO DAN VIDEO - LIPUTAN6.COM - TAHUN INI - HALAMAN 6\n",
      "BERITA TERPOPULER, FOTO DAN VIDEO - LIPUTAN6.COM - TAHUN INI - HALAMAN 7\n",
      "BERITA TERPOPULER, FOTO DAN VIDEO - LIPUTAN6.COM - TAHUN INI - HALAMAN 8\n",
      "BERITA TERPOPULER, FOTO DAN VIDEO - LIPUTAN6.COM - TAHUN INI - HALAMAN 9\n",
      "BERITA TERPOPULER, FOTO DAN VIDEO - LIPUTAN6.COM - TAHUN INI - HALAMAN 10\n",
      "BERITA TERPOPULER, FOTO DAN VIDEO - LIPUTAN6.COM - TAHUN INI - HALAMAN 11\n",
      "BERITA TERPOPULER, FOTO DAN VIDEO - LIPUTAN6.COM - TAHUN INI - HALAMAN 12\n",
      "BERITA TERPOPULER, FOTO DAN VIDEO - LIPUTAN6.COM - TAHUN INI - HALAMAN 13\n",
      "BERITA TERPOPULER, FOTO DAN VIDEO - LIPUTAN6.COM - TAHUN INI - HALAMAN 14\n",
      "BERITA TERPOPULER, FOTO DAN VIDEO - LIPUTAN6.COM - TAHUN INI - HALAMAN 15\n",
      "BERITA TERPOPULER, FOTO DAN VIDEO - LIPUTAN6.COM - TAHUN INI - HALAMAN 15\n",
      "BERITA TERPOPULER, FOTO DAN VIDEO - LIPUTAN6.COM - SELAMANYA - HALAMAN 1\n",
      "BERITA TERPOPULER, FOTO DAN VIDEO - LIPUTAN6.COM - SELAMANYA - HALAMAN 2\n",
      "BERITA TERPOPULER, FOTO DAN VIDEO - LIPUTAN6.COM - SELAMANYA - HALAMAN 3\n",
      "BERITA TERPOPULER, FOTO DAN VIDEO - LIPUTAN6.COM - SELAMANYA - HALAMAN 4\n",
      "BERITA TERPOPULER, FOTO DAN VIDEO - LIPUTAN6.COM - SELAMANYA - HALAMAN 5\n",
      "BERITA TERPOPULER, FOTO DAN VIDEO - LIPUTAN6.COM - SELAMANYA - HALAMAN 6\n",
      "BERITA TERPOPULER, FOTO DAN VIDEO - LIPUTAN6.COM - SELAMANYA - HALAMAN 7\n",
      "BERITA TERPOPULER, FOTO DAN VIDEO - LIPUTAN6.COM - SELAMANYA - HALAMAN 8\n",
      "BERITA TERPOPULER, FOTO DAN VIDEO - LIPUTAN6.COM - SELAMANYA - HALAMAN 9\n",
      "BERITA TERPOPULER, FOTO DAN VIDEO - LIPUTAN6.COM - SELAMANYA - HALAMAN 10\n",
      "BERITA TERPOPULER, FOTO DAN VIDEO - LIPUTAN6.COM - SELAMANYA - HALAMAN 11\n",
      "BERITA TERPOPULER, FOTO DAN VIDEO - LIPUTAN6.COM - SELAMANYA - HALAMAN 12\n",
      "BERITA TERPOPULER, FOTO DAN VIDEO - LIPUTAN6.COM - SELAMANYA - HALAMAN 13\n",
      "BERITA TERPOPULER, FOTO DAN VIDEO - LIPUTAN6.COM - SELAMANYA - HALAMAN 14\n",
      "BERITA TERPOPULER, FOTO DAN VIDEO - LIPUTAN6.COM - SELAMANYA - HALAMAN 15\n",
      "BERITA TERPOPULER, FOTO DAN VIDEO - LIPUTAN6.COM - SELAMANYA - HALAMAN 15\n"
     ]
    }
   ],
   "source": [
    "# insert your chrome driver here\n",
    "driver = webdriver.Chrome(\n",
    "    './chromedriver_linux64/chromedriver')\n",
    "arr_types = ['hari-ini', 'minggu-ini', 'bulan-ini', 'tahun-ini', 'selamanya']\n",
    "df_populer = pd.DataFrame()\n",
    "for t in arr_types:\n",
    "    p = 1\n",
    "    arr_web_title = []\n",
    "    while True:\n",
    "        url = 'https://www.liputan6.com/indeks/terpopuler/{}?page={}'.format(\n",
    "            t, p)\n",
    "        driver.get(url)\n",
    "        time.sleep(3)\n",
    "        \n",
    "        web_title = driver.find_element_by_xpath('//header[@class=\"header-index-alt\"]/h1').text\n",
    "        print(web_title)\n",
    "        if len(arr_web_title) > 0 and arr_web_title[-1] == web_title:\n",
    "            break\n",
    "\n",
    "        arr_web_title.append(web_title) \n",
    "        \n",
    "        WebDriverWait(driver, 10).until(\n",
    "            EC.presence_of_all_elements_located((By.XPATH, '//div[@class=\"articles--list articles--list_rows\"]/*')))\n",
    "        arr_div_artikel = driver.find_elements_by_xpath(\n",
    "            '//div[@class=\"articles--list articles--list_rows\"]/*')\n",
    "        for d in arr_div_artikel:\n",
    "            link = d.find_element_by_tag_name('a').get_attribute('href')\n",
    "            header = d.find_element_by_tag_name('header')\n",
    "            category = header.find_element_by_tag_name('a').text\n",
    "            try:\n",
    "                timestamp = header.find_element_by_tag_name(\n",
    "                    'time').get_attribute('datetime')\n",
    "            except:\n",
    "                timestamp = None\n",
    "            title = header.find_element_by_tag_name('h4').text\n",
    "            summary = d.find_element_by_tag_name(\n",
    "                'aside').find_element_by_tag_name('div').text\n",
    "            df_populer = df_populer.append({\n",
    "                'type': t,\n",
    "                'page': p,\n",
    "                'link': link,\n",
    "                'category': category,\n",
    "                'timestamp': timestamp,\n",
    "                'title': title,\n",
    "                'summary': summary\n",
    "            }, ignore_index=True)\n",
    "        p += 1\n",
    "df_populer.to_csv('scrape result/liputan6/{}_populer_liputan6.csv'.format(date), index=False)\n",
    "driver.close()"
   ]
  },
  {
   "cell_type": "markdown",
   "metadata": {
    "heading_collapsed": true
   },
   "source": [
    "# Merdeka.com"
   ]
  },
  {
   "cell_type": "code",
   "execution_count": 30,
   "metadata": {
    "ExecuteTime": {
     "end_time": "2020-11-22T13:22:51.534085Z",
     "start_time": "2020-11-22T13:20:53.151544Z"
    },
    "hidden": true
   },
   "outputs": [
    {
     "name": "stdout",
     "output_type": "stream",
     "text": [
      "Scraping is finished\n"
     ]
    }
   ],
   "source": [
    "# insert your chrome driver here\n",
    "driver = webdriver.Chrome(\n",
    "    './chromedriver_linux64/chromedriver')\n",
    "df_trending = pd.DataFrame()\n",
    "index = 1\n",
    "while True:\n",
    "    url = 'https://www.merdeka.com/trending/index{}'.format(index)\n",
    "    driver.get(url)\n",
    "    time.sleep(3)\n",
    "    try:\n",
    "        WebDriverWait(driver, 10).until(\n",
    "            EC.presence_of_all_elements_located((By.XPATH, '//div[@class=\"inner-content\"]/ul/*')))\n",
    "        arr_li = driver.find_elements_by_xpath(\n",
    "            '//div[@class=\"inner-content\"]/ul/*')\n",
    "        for count in range(len(arr_li)):\n",
    "            try:\n",
    "                a = driver.find_element_by_xpath(\n",
    "                    '//div[@class=\"inner-content\"]/ul/li[{}]/div/h3/a'.format(count+1))\n",
    "                title = a.text\n",
    "                link = a.get_attribute('href')\n",
    "                try:\n",
    "                    summary = driver.find_element_by_xpath(\n",
    "                        '//div[@class=\"inner-content\"]/ul/li[{}]/div/div[2]/p'.format(count+1)).text\n",
    "                except:\n",
    "                    summary = None\n",
    "                timestamp = driver.find_element_by_xpath(\n",
    "                    '//div[@class=\"inner-content\"]/ul/li[{}]/div/div[2]/span[2]'.format(count+1)).text\n",
    "                df_trending = df_trending.append({\n",
    "                    'title': title,\n",
    "                    'link': link,\n",
    "                    'summary': summary,\n",
    "                    'timestamp': timestamp,\n",
    "                    'scraped_at': datetime.now(),\n",
    "                    'page': index\n",
    "                }, ignore_index=True)\n",
    "\n",
    "            except:\n",
    "                try:\n",
    "                    a = driver.find_element_by_xpath(\n",
    "                        '//div[@class=\"inner-content\"]/ul/li[{}]/div/div[2]/h3/a'.format(count+1))\n",
    "                    title = a.text\n",
    "                    link = a.get_attribute('href')\n",
    "                    try:\n",
    "                        summary = driver.find_element_by_xpath(\n",
    "                            '//div[@class=\"inner-content\"]/ul/li[{}]/div/div[2]/p'.format(count+1)).text\n",
    "                    except:\n",
    "                        summary = None\n",
    "                    timestamp = driver.find_element_by_xpath(\n",
    "                        '//div[@class=\"inner-content\"]/ul/li[{}]/div/div[2]/span[2]'.format(count+1)).text\n",
    "                    df_trending = df_trending.append({\n",
    "                        'title': title,\n",
    "                        'link': link,\n",
    "                        'summary': summary,\n",
    "                        'timestamp': timestamp,\n",
    "                        'scraped_at': datetime.now(),\n",
    "                        'page': index\n",
    "                    }, ignore_index=True)\n",
    "                except:\n",
    "                    pass\n",
    "    except:\n",
    "        break\n",
    "    index += 1\n",
    "df_trending.to_csv('scrape result/merdeka/{}_trending_merdeka.csv'.format(date), index=False)\n",
    "print('Scraping is finished')\n",
    "driver.close()"
   ]
  },
  {
   "cell_type": "markdown",
   "metadata": {
    "heading_collapsed": true
   },
   "source": [
    "# Kapanlagi.com"
   ]
  },
  {
   "cell_type": "code",
   "execution_count": 31,
   "metadata": {
    "ExecuteTime": {
     "end_time": "2020-11-22T13:36:27.154616Z",
     "start_time": "2020-11-22T13:34:04.305539Z"
    },
    "hidden": true
   },
   "outputs": [
    {
     "name": "stdout",
     "output_type": "stream",
     "text": [
      "Scraping is finished\n"
     ]
    }
   ],
   "source": [
    "# insert your chrome driver here\n",
    "driver = webdriver.Chrome(\n",
    "    './chromedriver_linux64/chromedriver')\n",
    "df_trending = pd.DataFrame()\n",
    "index = 1\n",
    "while True:\n",
    "    if index <= 1:\n",
    "        url = 'https://www.kapanlagi.com/trending/index.html'\n",
    "    else:\n",
    "        url = 'https://www.kapanlagi.com/trending/index{}.html'.format(index)\n",
    "        headline_title = None\n",
    "        headline_link = None\n",
    "\n",
    "    driver.get(url)\n",
    "    time.sleep(3)\n",
    "\n",
    "    if index <= 1:\n",
    "        a_headline = driver.find_element_by_xpath(\n",
    "            '//h2[@class=\"title-tag\"]/a')\n",
    "        headline_title = a_headline.text\n",
    "        headline_link = a_headline.get_attribute('href')\n",
    "    \n",
    "    try:\n",
    "        WebDriverWait(driver, 10).until(\n",
    "            EC.presence_of_all_elements_located((By.XPATH, '//li[@id=\"tagli\"]')))\n",
    "        arr_li = driver.find_elements_by_xpath('//li[@id=\"tagli\"]')\n",
    "        for li in arr_li:\n",
    "            a = li.find_element_by_tag_name('div').find_element_by_tag_name('a')\n",
    "            link = a.get_attribute('href')\n",
    "            title = a.text\n",
    "            date = li.find_element_by_class_name('date').text\n",
    "            df_trending = df_trending.append({\n",
    "                'link': link,\n",
    "                'title': title,\n",
    "                'date': date,\n",
    "                'scraped_at': datetime.now(),\n",
    "                'page': index,\n",
    "                'headline_title': headline_title,\n",
    "                'headline_link': headline_link\n",
    "            }, ignore_index=True)\n",
    "    except:\n",
    "        break\n",
    "    index += 1\n",
    "df_trending.to_csv('scrape result/kapanlagi/{}_trending_kapanlagi.csv'.format(today), index=False)\n",
    "print('Scraping is finished')\n",
    "driver.close()"
   ]
  },
  {
   "cell_type": "markdown",
   "metadata": {
    "heading_collapsed": true
   },
   "source": [
    "# Okezone.com"
   ]
  },
  {
   "cell_type": "code",
   "execution_count": 49,
   "metadata": {
    "ExecuteTime": {
     "end_time": "2020-11-22T15:29:51.706241Z",
     "start_time": "2020-11-22T15:29:42.875161Z"
    },
    "hidden": true
   },
   "outputs": [
    {
     "name": "stdout",
     "output_type": "stream",
     "text": [
      "Scraping is finished\n"
     ]
    }
   ],
   "source": [
    "# insert your chrome driver here\n",
    "driver = webdriver.Chrome(\n",
    "    './chromedriver_linux64/chromedriver')\n",
    "url = 'https://www.okezone.com/'\n",
    "driver.get(url)\n",
    "time.sleep(3)\n",
    "\n",
    "WebDriverWait(driver, 10).until(\n",
    "    EC.presence_of_all_elements_located((By.XPATH, '//div[@class=\"berita-pilihan\"]')))\n",
    "arr_div = driver.find_elements_by_xpath('//div[@class=\"berita-pilihan\"]')\n",
    "df_populer = pd.DataFrame()\n",
    "for d in arr_div:\n",
    "    a = d.find_element_by_class_name(\n",
    "        'content-hardnews').find_element_by_tag_name('a')\n",
    "#     title = a.text\n",
    "    link = a.get_attribute('href')\n",
    "#     timestamp = d.find_element_by_tag_name('span').text\n",
    "#     category = d.find_element_by_class_name(\n",
    "#         'desk-berita-pilihan').find_elements_by_tag_name('a')[1].text\n",
    "    df_populer = df_populer.append({\n",
    "#         'title': title,\n",
    "        'link': link,\n",
    "        'scraped_at': datetime.now()\n",
    "#         'timestamp': timestamp,\n",
    "#         'category': category\n",
    "    }, ignore_index=True)\n",
    "\n",
    "df_populer = df_populer.drop_duplicates(subset='link')\n",
    "df_populer.to_csv(\n",
    "    'scrape result/okezone/{}_populer_okezone.csv'.format(today), index=False)\n",
    "print('Scraping is finished')\n",
    "driver.close()"
   ]
  },
  {
   "cell_type": "markdown",
   "metadata": {
    "heading_collapsed": true
   },
   "source": [
    "# Tempo.co"
   ]
  },
  {
   "cell_type": "code",
   "execution_count": 34,
   "metadata": {
    "ExecuteTime": {
     "end_time": "2020-11-22T13:56:29.515286Z",
     "start_time": "2020-11-22T13:55:49.452713Z"
    },
    "hidden": true
   },
   "outputs": [
    {
     "name": "stdout",
     "output_type": "stream",
     "text": [
      "Scraping is finished\n"
     ]
    }
   ],
   "source": [
    "# insert your chrome driver here\n",
    "driver = webdriver.Chrome(\n",
    "    './chromedriver_linux64/chromedriver')\n",
    "arr_types = ['6jam', '12jam', '1hari', '1minggu', '1bulan', '1tahun']\n",
    "df_populer = pd.DataFrame()\n",
    "for t in arr_types:\n",
    "    url = 'https://www.tempo.co/populer/?tipe={}'.format(t)\n",
    "    driver.get(url)\n",
    "    time.sleep(3)\n",
    "    WebDriverWait(driver, 10).until(\n",
    "        EC.presence_of_all_elements_located((By.XPATH, '//ul[@class=\"wrapper\"]/*')))\n",
    "    arr_li = driver.find_elements_by_xpath(\n",
    "        '//ul[@class=\"wrapper\"]/*')\n",
    "    for li in arr_li:\n",
    "        link = li.find_element_by_tag_name('a').get_attribute('href')\n",
    "        title = li.find_element_by_tag_name('h2').text\n",
    "        summary = li.find_element_by_tag_name('p').text\n",
    "        timestamp = li.find_element_by_tag_name('span').text\n",
    "        df_populer = df_populer.append({\n",
    "            'type': t,\n",
    "            'link': link,\n",
    "            'title': title,\n",
    "            'summary': summary,\n",
    "            'timestamp': timestamp,\n",
    "            'scraped_at': datetime.now()\n",
    "        }, ignore_index=True)\n",
    "df_populer.to_csv('scrape result/tempo/{}_populer_tempo.csv'.format(today), index=False)\n",
    "print('Scraping is finished')\n",
    "driver.close()"
   ]
  },
  {
   "cell_type": "markdown",
   "metadata": {
    "heading_collapsed": true
   },
   "source": [
    "# Viva"
   ]
  },
  {
   "cell_type": "code",
   "execution_count": 36,
   "metadata": {
    "ExecuteTime": {
     "end_time": "2020-11-22T14:11:42.715987Z",
     "start_time": "2020-11-22T14:11:31.442137Z"
    },
    "hidden": true
   },
   "outputs": [
    {
     "name": "stdout",
     "output_type": "stream",
     "text": [
      "Scraping is finished\n"
     ]
    }
   ],
   "source": [
    "# insert your chrome driver here\n",
    "driver = webdriver.Chrome(\n",
    "    './chromedriver_linux64/chromedriver')\n",
    "df_populer = pd.DataFrame()\n",
    "url = 'https://www.viva.co.id/'\n",
    "driver.get(url)\n",
    "time.sleep(3)\n",
    "\n",
    "WebDriverWait(driver, 10).until(\n",
    "        EC.presence_of_all_elements_located((By.XPATH, '//div[@class=\"side-popular\"]/ul/*')))\n",
    "arr_li = driver.find_elements_by_xpath(\n",
    "    '//div[@class=\"side-popular\"]/ul/*')\n",
    "for li in arr_li:\n",
    "    try:\n",
    "        a = li.find_element_by_tag_name('a')\n",
    "        title = a.text\n",
    "        link = a.get_attribute('href')\n",
    "        df_populer = df_populer.append({\n",
    "            'link': link,\n",
    "            'title': title,\n",
    "            'scraped_at': datetime.now()\n",
    "        }, ignore_index=True)\n",
    "    except:\n",
    "        pass\n",
    "df_populer.to_csv('scrape result/viva/{}_populer_viva.csv'.format(today), index=False)\n",
    "print('Scraping is finished')\n",
    "driver.close()"
   ]
  },
  {
   "cell_type": "markdown",
   "metadata": {
    "heading_collapsed": true
   },
   "source": [
    "# Suara.com"
   ]
  },
  {
   "cell_type": "code",
   "execution_count": 38,
   "metadata": {
    "ExecuteTime": {
     "end_time": "2020-11-22T14:17:37.975724Z",
     "start_time": "2020-11-22T14:17:28.995092Z"
    },
    "hidden": true
   },
   "outputs": [
    {
     "name": "stdout",
     "output_type": "stream",
     "text": [
      "Scraping is finished\n"
     ]
    }
   ],
   "source": [
    "# insert your chrome driver here\n",
    "driver = webdriver.Chrome(\n",
    "    './chromedriver_linux64/chromedriver')\n",
    "url = 'https://suara.com/'\n",
    "driver.get(url)\n",
    "time.sleep(3)\n",
    "\n",
    "WebDriverWait(driver, 10).until(\n",
    "    EC.presence_of_all_elements_located((By.XPATH, '/html/body/div[3]/div[3]/article[2]/div/div[4]/div/div/ul/*')))\n",
    "arr_li = driver.find_elements_by_xpath(\n",
    "    '/html/body/div[3]/div[3]/article[2]/div/div[4]/div/div/ul/*')\n",
    "df_populer = pd.DataFrame()\n",
    "for li in arr_li:\n",
    "    category_time = li.find_element_by_tag_name('span').text\n",
    "    category = re.sub(r'\\|.*', '', category_time).strip()\n",
    "    timestamp = re.sub(r'.*\\|', '', category_time).strip()\n",
    "    h3 = li.find_element_by_tag_name('h3')\n",
    "    link = h3.find_element_by_tag_name('a').get_attribute('href')\n",
    "    title = h3.text\n",
    "    df_populer = df_populer.append({\n",
    "        'category': category,\n",
    "        'time': timestamp,\n",
    "        'link': link,\n",
    "        'title': title,\n",
    "        'scraped_at': datetime.now()\n",
    "    }, ignore_index=True)\n",
    "df_populer.to_csv('scrape result/suara/{}_populer_suara.csv'.format(today), index=False)\n",
    "print('Scraping is finished')\n",
    "driver.close()"
   ]
  },
  {
   "cell_type": "markdown",
   "metadata": {
    "heading_collapsed": true
   },
   "source": [
    "# jpnn.com"
   ]
  },
  {
   "cell_type": "code",
   "execution_count": 40,
   "metadata": {
    "ExecuteTime": {
     "end_time": "2020-11-22T14:25:44.889677Z",
     "start_time": "2020-11-22T14:25:33.352705Z"
    },
    "hidden": true
   },
   "outputs": [
    {
     "name": "stdout",
     "output_type": "stream",
     "text": [
      "Scraping is finished\n"
     ]
    }
   ],
   "source": [
    "# insert your chrome driver here\n",
    "driver = webdriver.Chrome(\n",
    "    './chromedriver_linux64/chromedriver')\n",
    "url = 'https://www.jpnn.com/populer'\n",
    "driver.get(url)\n",
    "time.sleep(3)\n",
    "WebDriverWait(driver, 10).until(\n",
    "    EC.presence_of_all_elements_located((By.XPATH, '//ul[@class=\"content-list\"]/*')))\n",
    "arr_li = driver.find_elements_by_xpath(\n",
    "    '//ul[@class=\"content-list\"]/*')\n",
    "df_populer = pd.DataFrame()\n",
    "for li in arr_li:\n",
    "    category = li.find_element_by_tag_name('strong').text\n",
    "    timestamp = li.find_element_by_class_name('silver').text\n",
    "    a = li.find_element_by_tag_name('h1').find_element_by_tag_name('a')\n",
    "    title = a.text\n",
    "    link = a.get_attribute('href')\n",
    "    summary = li.find_element_by_tag_name('p').text\n",
    "    df_populer = df_populer.append({\n",
    "        'category': category,\n",
    "        'timestamp': timestamp,\n",
    "        'title': title,\n",
    "        'link': link,\n",
    "        'summary': summary,\n",
    "        'scraped_at': datetime.now()\n",
    "    }, ignore_index=True)\n",
    "    \n",
    "# take terpopuler\n",
    "a_most_popular = driver.find_element_by_xpath(\n",
    "    '//*[@id=\"content-utama\"]/div[1]/div[1]/div/div/div[1]/h1/a')\n",
    "title_most_popular = a_most_popular.text\n",
    "link_most_popular = a_most_popular.get_attribute('href')\n",
    "category_most_popular = driver.find_element_by_xpath(\n",
    "    '//*[@id=\"content-utama\"]/div[1]/div[1]/div/div/div[1]/h6/a/strong').text\n",
    "timestamp_most_popular = driver.find_element_by_xpath(\n",
    "    '//*[@id=\"content-utama\"]/div[1]/div[1]/div/div/div[1]/h6/a/span').text\n",
    "summary_most_popular = driver.find_element_by_xpath(\n",
    "    '//*[@id=\"content-utama\"]/div[1]/div[1]/div/div/div[1]/p').text\n",
    "\n",
    "df_populer['title_most_popular'] = title_most_popular\n",
    "df_populer['link_most_popular'] = link_most_popular\n",
    "df_populer['category_most_popular'] = category_most_popular\n",
    "df_populer['timestamp_most_popular'] = timestamp_most_popular\n",
    "df_populer['summary_most_popular'] = summary_most_popular\n",
    "\n",
    "df_populer.to_csv('scrape result/jpnn/{}_populer_jpnn.csv'.format(today), index=False)\n",
    "print('Scraping is finished')\n",
    "driver.close()"
   ]
  },
  {
   "cell_type": "markdown",
   "metadata": {
    "heading_collapsed": true
   },
   "source": [
    "# Sindonews.com"
   ]
  },
  {
   "cell_type": "code",
   "execution_count": 41,
   "metadata": {
    "ExecuteTime": {
     "end_time": "2020-11-22T14:32:19.529170Z",
     "start_time": "2020-11-22T14:32:11.043876Z"
    },
    "hidden": true
   },
   "outputs": [
    {
     "name": "stdout",
     "output_type": "stream",
     "text": [
      "Scraping is finished\n"
     ]
    }
   ],
   "source": [
    "# insert your chrome driver here\n",
    "driver = webdriver.Chrome(\n",
    "    './chromedriver_linux64/chromedriver')\n",
    "url = 'https://www.sindonews.com'\n",
    "driver.get(url)\n",
    "time.sleep(3)\n",
    "WebDriverWait(driver, 10).until(\n",
    "    EC.presence_of_all_elements_located((By.XPATH, '//div[@class=\"populer\"]/ul/*')))\n",
    "arr_li = driver.find_elements_by_xpath('//div[@class=\"populer\"]/ul/*')\n",
    "df_populer = pd.DataFrame()\n",
    "for li in arr_li:\n",
    "    a = li.find_element_by_tag_name('a')\n",
    "    title = a.text\n",
    "    link = a.get_attribute('href')\n",
    "    df_populer = df_populer.append({\n",
    "        'title': title,\n",
    "        'link': link,\n",
    "        'scraped_at': datetime.now()\n",
    "    }, ignore_index=True)\n",
    "df_populer.to_csv('scrape result/sindonews/{}_populer_sindonews.csv'.format(today), index=False)\n",
    "print('Scraping is finished')\n",
    "driver.close()"
   ]
  },
  {
   "cell_type": "markdown",
   "metadata": {
    "heading_collapsed": true
   },
   "source": [
    "# jawapos.com"
   ]
  },
  {
   "cell_type": "code",
   "execution_count": 42,
   "metadata": {
    "ExecuteTime": {
     "end_time": "2020-11-22T14:43:23.166285Z",
     "start_time": "2020-11-22T14:43:12.625243Z"
    },
    "hidden": true
   },
   "outputs": [
    {
     "name": "stdout",
     "output_type": "stream",
     "text": [
      "Scraping is finished\n"
     ]
    }
   ],
   "source": [
    "# insert your chrome driver here\n",
    "driver = webdriver.Chrome(\n",
    "    './chromedriver_linux64/chromedriver')\n",
    "url = 'https://www.jawapos.com/'\n",
    "driver.get(url)\n",
    "time.sleep(3)\n",
    "\n",
    "WebDriverWait(driver, 10).until(\n",
    "    EC.presence_of_all_elements_located((By.XPATH, '//div[@class=\"trending-list\"]/*')))\n",
    "arr_div = driver.find_elements_by_xpath(\n",
    "    '//div[@class=\"trending-list\"]/*')\n",
    "df_trending = pd.DataFrame()\n",
    "for d in arr_div:\n",
    "    a = d.find_element_by_tag_name('a')\n",
    "    title = a.text\n",
    "    link = a.get_attribute('href')\n",
    "    df_trending = df_trending.append({\n",
    "        'title': title,\n",
    "        'link': link,\n",
    "        'scraped_at': datetime.now()\n",
    "    }, ignore_index=True)\n",
    "df_trending.to_csv('scrape result/jawapos/{}_trending_jawapos.csv'.format(today), index=False)\n",
    "print('Scraping is finished')\n",
    "driver.close()"
   ]
  },
  {
   "cell_type": "markdown",
   "metadata": {
    "heading_collapsed": true
   },
   "source": [
    "# Antaranews"
   ]
  },
  {
   "cell_type": "code",
   "execution_count": 43,
   "metadata": {
    "ExecuteTime": {
     "end_time": "2020-11-22T15:03:55.564495Z",
     "start_time": "2020-11-22T15:03:46.927996Z"
    },
    "hidden": true
   },
   "outputs": [
    {
     "name": "stdout",
     "output_type": "stream",
     "text": [
      "Scraping is finished\n"
     ]
    }
   ],
   "source": [
    "# insert your chrome driver here\n",
    "driver = webdriver.Chrome(\n",
    "    './chromedriver_linux64/chromedriver')\n",
    "url = 'https://www.antaranews.com/#tab-popular'\n",
    "driver.get(url)\n",
    "time.sleep(3)\n",
    "\n",
    "WebDriverWait(driver, 10).until(\n",
    "    EC.presence_of_all_elements_located((By.XPATH, '//*[@id=\"tab-popular\"]/*')))\n",
    "arr_article = driver.find_elements_by_xpath('//*[@id=\"tab-popular\"]/*')\n",
    "df_populer = pd.DataFrame()\n",
    "for r in arr_article:\n",
    "    a = r.find_element_by_tag_name('h3').find_element_by_tag_name('a')\n",
    "    title = a.text\n",
    "    link = a.get_attribute('href')\n",
    "    df_populer = df_populer.append({\n",
    "        'title': title,\n",
    "        'link': link,\n",
    "        'scraped_at': datetime.now()\n",
    "    }, ignore_index=True)\n",
    "df_populer.to_csv(\n",
    "    'scrape result/antaranews/{}_populer_antaranews.csv'.format(today), index=False)\n",
    "print('Scraping is finished')\n",
    "driver.close()"
   ]
  },
  {
   "cell_type": "markdown",
   "metadata": {
    "heading_collapsed": true
   },
   "source": [
    "# Inilah.com"
   ]
  },
  {
   "cell_type": "code",
   "execution_count": 45,
   "metadata": {
    "ExecuteTime": {
     "end_time": "2020-11-22T15:07:14.329651Z",
     "start_time": "2020-11-22T15:07:02.466067Z"
    },
    "hidden": true
   },
   "outputs": [
    {
     "name": "stdout",
     "output_type": "stream",
     "text": [
      "Scraping is finished\n"
     ]
    }
   ],
   "source": [
    "# insert your chrome driver here\n",
    "driver = webdriver.Chrome(\n",
    "    './chromedriver_linux64/chromedriver')\n",
    "url = 'https://inilah.com/'\n",
    "driver.get(url)\n",
    "time.sleep(3)\n",
    "WebDriverWait(driver, 10).until(\n",
    "    EC.presence_of_all_elements_located((By.XPATH, '//*[@id=\"populer\"]/*')))\n",
    "arr_div = driver.find_elements_by_xpath('//*[@id=\"populer\"]/*')\n",
    "df_populer = pd.DataFrame()\n",
    "for d in arr_div:\n",
    "    a = d.find_element_by_tag_name('a')\n",
    "    title = a.find_element_by_class_name('pop-title').text\n",
    "    link = a.get_attribute('href')\n",
    "    rank = a.find_element_by_class_name('pop-count').text\n",
    "    df_populer = df_populer.append({\n",
    "        'title': title,\n",
    "        'link': link,\n",
    "        'rank': rank,\n",
    "        'scraped_at': datetime.now()\n",
    "    }, ignore_index=True)\n",
    "df_populer.to_csv('scrape result/inilah/{}_populer_inilah.csv'.format(today), index=False)\n",
    "print('Scraping is finished')\n",
    "driver.close()"
   ]
  }
 ],
 "metadata": {
  "kernelspec": {
   "display_name": "Python 3",
   "language": "python",
   "name": "python3"
  },
  "language_info": {
   "codemirror_mode": {
    "name": "ipython",
    "version": 3
   },
   "file_extension": ".py",
   "mimetype": "text/x-python",
   "name": "python",
   "nbconvert_exporter": "python",
   "pygments_lexer": "ipython3",
   "version": "3.7.4"
  },
  "toc": {
   "base_numbering": 1,
   "nav_menu": {},
   "number_sections": true,
   "sideBar": true,
   "skip_h1_title": false,
   "title_cell": "Table of Contents",
   "title_sidebar": "Contents",
   "toc_cell": false,
   "toc_position": {
    "height": "calc(100% - 180px)",
    "left": "10px",
    "top": "150px",
    "width": "259.797px"
   },
   "toc_section_display": true,
   "toc_window_display": true
  }
 },
 "nbformat": 4,
 "nbformat_minor": 2
}
